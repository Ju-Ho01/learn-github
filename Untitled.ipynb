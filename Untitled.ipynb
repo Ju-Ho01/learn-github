{
 "cells": [
  {
   "cell_type": "code",
   "execution_count": 6,
   "id": "alone-tokyo",
   "metadata": {},
   "outputs": [
    {
     "ename": "SyntaxError",
     "evalue": "invalid syntax (<ipython-input-6-a403d611fd30>, line 4)",
     "output_type": "error",
     "traceback": [
      "\u001b[1;36m  File \u001b[1;32m\"<ipython-input-6-a403d611fd30>\"\u001b[1;36m, line \u001b[1;32m4\u001b[0m\n\u001b[1;33m    print(a  +  \"-\"  + b \"=\" + reslt)\u001b[0m\n\u001b[1;37m                         ^\u001b[0m\n\u001b[1;31mSyntaxError\u001b[0m\u001b[1;31m:\u001b[0m invalid syntax\n"
     ]
    }
   ],
   "source": [
    "a= int(input(\"a: \"))\n",
    "b= int(input(\"b: \"))\n",
    "result= a-b\n",
    "print(a  +  \"-\"  + b \"=\" + reslt)"
   ]
  },
  {
   "cell_type": "code",
   "execution_count": 38,
   "id": "numerical-springer",
   "metadata": {},
   "outputs": [
    {
     "name": "stdout",
     "output_type": "stream",
     "text": [
      "a: 3\n",
      "b: 4\n",
      "7\n"
     ]
    }
   ],
   "source": [
    "a = int(input(\"a: \"))\n",
    "b = int(input(\"b: \"))   \n",
    "result = a + b\n",
    "print(result)"
   ]
  },
  {
   "cell_type": "code",
   "execution_count": 36,
   "id": "grave-copper",
   "metadata": {},
   "outputs": [
    {
     "ename": "KeyboardInterrupt",
     "evalue": "Interrupted by user",
     "output_type": "error",
     "traceback": [
      "\u001b[1;31m---------------------------------------------------------------------------\u001b[0m",
      "\u001b[1;31mKeyboardInterrupt\u001b[0m                         Traceback (most recent call last)",
      "\u001b[1;32m<ipython-input-36-73b5047cbcc9>\u001b[0m in \u001b[0;36m<module>\u001b[1;34m\u001b[0m\n\u001b[1;32m----> 1\u001b[1;33m \u001b[0ma\u001b[0m \u001b[1;33m=\u001b[0m \u001b[0mint\u001b[0m\u001b[1;33m(\u001b[0m\u001b[0minput\u001b[0m\u001b[1;33m(\u001b[0m\u001b[1;34m\"a: \"\u001b[0m\u001b[1;33m)\u001b[0m\u001b[1;33m)\u001b[0m\u001b[1;33m\u001b[0m\u001b[1;33m\u001b[0m\u001b[0m\n\u001b[0m\u001b[0;32m      2\u001b[0m \u001b[0mb\u001b[0m \u001b[1;33m=\u001b[0m \u001b[0mint\u001b[0m\u001b[1;33m(\u001b[0m\u001b[0minput\u001b[0m\u001b[1;33m(\u001b[0m\u001b[1;34m\"b: \"\u001b[0m\u001b[1;33m)\u001b[0m\u001b[1;33m)\u001b[0m\u001b[1;33m\u001b[0m\u001b[1;33m\u001b[0m\u001b[0m\n\u001b[0;32m      3\u001b[0m \u001b[0mresult\u001b[0m \u001b[1;33m=\u001b[0m \u001b[0ma\u001b[0m \u001b[1;33m-\u001b[0m \u001b[0mb\u001b[0m\u001b[1;33m\u001b[0m\u001b[1;33m\u001b[0m\u001b[0m\n\u001b[0;32m      4\u001b[0m \u001b[0mprint\u001b[0m\u001b[1;33m(\u001b[0m\u001b[0mresult\u001b[0m\u001b[1;33m)\u001b[0m\u001b[1;33m\u001b[0m\u001b[1;33m\u001b[0m\u001b[0m\n",
      "\u001b[1;32mc:\\users\\user\\appdata\\local\\programs\\python\\python39\\lib\\site-packages\\ipykernel\\kernelbase.py\u001b[0m in \u001b[0;36mraw_input\u001b[1;34m(self, prompt)\u001b[0m\n\u001b[0;32m    855\u001b[0m                 \u001b[1;34m\"raw_input was called, but this frontend does not support input requests.\"\u001b[0m\u001b[1;33m\u001b[0m\u001b[1;33m\u001b[0m\u001b[0m\n\u001b[0;32m    856\u001b[0m             )\n\u001b[1;32m--> 857\u001b[1;33m         return self._input_request(str(prompt),\n\u001b[0m\u001b[0;32m    858\u001b[0m             \u001b[0mself\u001b[0m\u001b[1;33m.\u001b[0m\u001b[0m_parent_ident\u001b[0m\u001b[1;33m,\u001b[0m\u001b[1;33m\u001b[0m\u001b[1;33m\u001b[0m\u001b[0m\n\u001b[0;32m    859\u001b[0m             \u001b[0mself\u001b[0m\u001b[1;33m.\u001b[0m\u001b[0m_parent_header\u001b[0m\u001b[1;33m,\u001b[0m\u001b[1;33m\u001b[0m\u001b[1;33m\u001b[0m\u001b[0m\n",
      "\u001b[1;32mc:\\users\\user\\appdata\\local\\programs\\python\\python39\\lib\\site-packages\\ipykernel\\kernelbase.py\u001b[0m in \u001b[0;36m_input_request\u001b[1;34m(self, prompt, ident, parent, password)\u001b[0m\n\u001b[0;32m    899\u001b[0m             \u001b[1;32mexcept\u001b[0m \u001b[0mKeyboardInterrupt\u001b[0m\u001b[1;33m:\u001b[0m\u001b[1;33m\u001b[0m\u001b[1;33m\u001b[0m\u001b[0m\n\u001b[0;32m    900\u001b[0m                 \u001b[1;31m# re-raise KeyboardInterrupt, to truncate traceback\u001b[0m\u001b[1;33m\u001b[0m\u001b[1;33m\u001b[0m\u001b[1;33m\u001b[0m\u001b[0m\n\u001b[1;32m--> 901\u001b[1;33m                 \u001b[1;32mraise\u001b[0m \u001b[0mKeyboardInterrupt\u001b[0m\u001b[1;33m(\u001b[0m\u001b[1;34m\"Interrupted by user\"\u001b[0m\u001b[1;33m)\u001b[0m \u001b[1;32mfrom\u001b[0m \u001b[1;32mNone\u001b[0m\u001b[1;33m\u001b[0m\u001b[1;33m\u001b[0m\u001b[0m\n\u001b[0m\u001b[0;32m    902\u001b[0m             \u001b[1;32mexcept\u001b[0m \u001b[0mException\u001b[0m \u001b[1;32mas\u001b[0m \u001b[0me\u001b[0m\u001b[1;33m:\u001b[0m\u001b[1;33m\u001b[0m\u001b[1;33m\u001b[0m\u001b[0m\n\u001b[0;32m    903\u001b[0m                 \u001b[0mself\u001b[0m\u001b[1;33m.\u001b[0m\u001b[0mlog\u001b[0m\u001b[1;33m.\u001b[0m\u001b[0mwarning\u001b[0m\u001b[1;33m(\u001b[0m\u001b[1;34m\"Invalid Message:\"\u001b[0m\u001b[1;33m,\u001b[0m \u001b[0mexc_info\u001b[0m\u001b[1;33m=\u001b[0m\u001b[1;32mTrue\u001b[0m\u001b[1;33m)\u001b[0m\u001b[1;33m\u001b[0m\u001b[1;33m\u001b[0m\u001b[0m\n",
      "\u001b[1;31mKeyboardInterrupt\u001b[0m: Interrupted by user"
     ]
    }
   ],
   "source": [
    "a = int(input(\"a: \"))\n",
    "b = int(input(\"b: \"))\n",
    "result = a - b\n",
    "print(result)"
   ]
  },
  {
   "cell_type": "code",
   "execution_count": 9,
   "id": "provincial-parker",
   "metadata": {
    "scrolled": true
   },
   "outputs": [
    {
     "name": "stdout",
     "output_type": "stream",
     "text": [
      "태어난 해는?2001\n",
      "2001년에 태어난 당신은20살입니다.\n"
     ]
    }
   ],
   "source": [
    "# 프로그램을 작성하기 위해서는\n",
    "#변수가 있어야 한다.\n",
    "birthyear= int(input(\"태어난 해는?\"))\n",
    "thisyear= 2021\n",
    "age= thisyear - birthyear\n",
    "print(str(birthyear) + \"년에 태어난 당신은\" + str(age) + \"살입니다.\")"
   ]
  },
  {
   "cell_type": "markdown",
   "id": "green-tulsa",
   "metadata": {},
   "source": [
    "## 변수와 상수\n",
    "**변수 Variable**: 프로그램에서 처리할 데이터를 보관하는 공간의 이름\n",
    "**상수 consistant**: 변수에 저장되는 숫자 데이터 또는 문자/문자열 데이터 그 자체 literal.\n",
    "                       pi = 3.141592\n",
    "**변수의 형태, type**: 변수에 보관되는 데이터의 모양과 크기를 type\n",
    "                     모양이란? 숫자(int,float) / 문자(char)/ 문자열(string)/ 부울(boolean)\n",
    "                     "
   ]
  },
  {
   "cell_type": "code",
   "execution_count": 16,
   "id": "innocent-trademark",
   "metadata": {},
   "outputs": [
    {
     "name": "stdout",
     "output_type": "stream",
     "text": [
      "False\n"
     ]
    }
   ],
   "source": [
    "a = 10<5\n",
    "type(a)\n",
    "print(a)"
   ]
  },
  {
   "cell_type": "code",
   "execution_count": 17,
   "id": "dress-bolivia",
   "metadata": {},
   "outputs": [
    {
     "name": "stdout",
     "output_type": "stream",
     "text": [
      "korea2021\n"
     ]
    }
   ],
   "source": [
    "print(\"korea\" + str(2021))"
   ]
  },
  {
   "cell_type": "code",
   "execution_count": 30,
   "id": "above-vision",
   "metadata": {},
   "outputs": [
    {
     "name": "stdout",
     "output_type": "stream",
     "text": [
      "00000000\n",
      "14\n",
      "   20\n",
      " 20.0\n",
      "20.000000\n",
      "20\n",
      "24\n",
      "14\n"
     ]
    }
   ],
   "source": [
    "#서식의 지정\n",
    "a= 20\n",
    "print(\"00000000\")\n",
    "print(\"%x\"% a) # %d: 정수형 16진수 형태로 출력\n",
    "print(\"%5d\"% a) # %d: 정수형 10진수 형태로 출력\n",
    "print(\"%5.1f\"% a) # %f: 정수형 16진수 형태로 출력\n",
    "print(\"%f\"% a) # %d: 정수형 16진수 형태로 출력\n",
    "print(\"%d\"% a) # %d: 정수형 10진수 형태로 출력\n",
    "print(\"%o\"% a) # %o: 정수형 8진수 형태로 출력\n",
    "print(\"%x\"% a) # %x: 정수형 16진수 형태로 출력 "
   ]
  },
  {
   "cell_type": "code",
   "execution_count": 28,
   "id": "level-mason",
   "metadata": {},
   "outputs": [
    {
     "name": "stdout",
     "output_type": "stream",
     "text": [
      "12345678901234567\n",
      "20    20\n"
     ]
    }
   ],
   "source": [
    "#format과 함께 사용\n",
    "print(\"12345678901234567\")\n",
    "print(\"{0:} {1:5}\".format(a, a))"
   ]
  },
  {
   "cell_type": "code",
   "execution_count": 33,
   "id": "spiritual-shift",
   "metadata": {},
   "outputs": [
    {
     "name": "stdout",
     "output_type": "stream",
     "text": [
      "한국 \n",
      "아이티전문\t학원\n"
     ]
    }
   ],
   "source": [
    "print(\"한국 \\n아이티전문\\t학원\") #\\n : 줄버꿈, \\t ; 탭, \\b : 뒤로 "
   ]
  },
  {
   "cell_type": "markdown",
   "id": "quiet-creator",
   "metadata": {},
   "source": [
    "**<연습문제>** 섭씨온도를 입력받아 하씨온도로 전환하여 출력하는 프로그램을 작성하시오. 단, 출력을 할 때 섭씨온도와 변환된 화씨온도를 함께 출력해주세요. 소수점이하는 2자리"
   ]
  },
  {
   "cell_type": "code",
   "execution_count": 50,
   "id": "cardiovascular-restaurant",
   "metadata": {},
   "outputs": [
    {
     "ename": "SyntaxError",
     "evalue": "invalid syntax (<ipython-input-50-304d46b46112>, line 2)",
     "output_type": "error",
     "traceback": [
      "\u001b[1;36m  File \u001b[1;32m\"<ipython-input-50-304d46b46112>\"\u001b[1;36m, line \u001b[1;32m2\u001b[0m\n\u001b[1;33m    tempF = tempC * 1.8 + 32\u001b[0m\n\u001b[1;37m    ^\u001b[0m\n\u001b[1;31mSyntaxError\u001b[0m\u001b[1;31m:\u001b[0m invalid syntax\n"
     ]
    }
   ],
   "source": [
    "tempC =(int(input(\"섭씨 온도를 입력해주세요 : \"))\n",
    "tempF = tempC * 1.8 + 32\n",
    "print((\"{0:5.2f} {1:5.2f} \". format(tempC, tempF))"
   ]
  },
  {
   "cell_type": "code",
   "execution_count": 42,
   "id": "narrative-session",
   "metadata": {},
   "outputs": [
    {
     "name": "stdout",
     "output_type": "stream",
     "text": [
      "3.3333333333333335\n",
      "3\n"
     ]
    }
   ],
   "source": [
    "print(10 / 3 )\n",
    "print(10 // 3)"
   ]
  },
  {
   "cell_type": "code",
   "execution_count": 43,
   "id": "restricted-lover",
   "metadata": {},
   "outputs": [
    {
     "name": "stdout",
     "output_type": "stream",
     "text": [
      "1\n"
     ]
    }
   ],
   "source": [
    "# % : 나머지 구하는 연산자\n",
    "print(10 % 3)"
   ]
  },
  {
   "cell_type": "code",
   "execution_count": 45,
   "id": "sized-binding",
   "metadata": {},
   "outputs": [
    {
     "name": "stdout",
     "output_type": "stream",
     "text": [
      "27\n"
     ]
    }
   ],
   "source": [
    "# 거듭제곱 구하는 연산자 : **\n",
    "print(3 ** 3)"
   ]
  },
  {
   "cell_type": "markdown",
   "id": "bound-christopher",
   "metadata": {},
   "source": [
    "**<연습문제>** 원의 반지름을 입력받아 면적을 구하는 프로그램을 작성하시오. (곱하기 산술연산자 응용문제)"
   ]
  },
  {
   "cell_type": "code",
   "execution_count": 49,
   "id": "human-purchase",
   "metadata": {},
   "outputs": [
    {
     "ename": "SyntaxError",
     "evalue": "invalid syntax (<ipython-input-49-3261bef47039>, line 1)",
     "output_type": "error",
     "traceback": [
      "\u001b[1;36m  File \u001b[1;32m\"<ipython-input-49-3261bef47039>\"\u001b[1;36m, line \u001b[1;32m1\u001b[0m\n\u001b[1;33m    R = int((input\"원의 면적을 구하시오: \"))\u001b[0m\n\u001b[1;37m                  ^\u001b[0m\n\u001b[1;31mSyntaxError\u001b[0m\u001b[1;31m:\u001b[0m invalid syntax\n"
     ]
    }
   ],
   "source": [
    "r= int(input( \"원의 반지름:\" ))\n",
    "R= r**r*3,.14\n",
    "print((\"{0:}\"))"
   ]
  },
  {
   "cell_type": "markdown",
   "id": "practical-studio",
   "metadata": {},
   "source": [
    "**<연습문제>** 숫자를 입력받아, 홀수인지 짝수인지 판단하는 프로그램을 작성하시오. (if문 응용문제, 곱하기와 나누기 연산자 사용)\n",
    "같은지 비교할 때는 =="
   ]
  },
  {
   "cell_type": "code",
   "execution_count": null,
   "id": "stainless-enemy",
   "metadata": {},
   "outputs": [],
   "source": []
  },
  {
   "cell_type": "markdown",
   "id": "entire-capacity",
   "metadata": {},
   "source": [
    "# 리스트의 크기는 생성할 때 결정된다 "
   ]
  },
  {
   "cell_type": "code",
   "execution_count": 14,
   "id": "featured-peripheral",
   "metadata": {},
   "outputs": [],
   "source": [
    "lst2 =list(range(1, 11, 2))     #range(숫자) : 0~ 숫자까지의 범위를 생성해주는 메서드 범위를 지정할 수도 있다.\n",
    "                               # 세번째 숫자는 증분을 나타냄"
   ]
  },
  {
   "cell_type": "code",
   "execution_count": 17,
   "id": "digital-barrel",
   "metadata": {},
   "outputs": [],
   "source": [
    "lst3=list(range(10, 0, -2))"
   ]
  },
  {
   "cell_type": "code",
   "execution_count": 19,
   "id": "varied-retail",
   "metadata": {},
   "outputs": [
    {
     "data": {
      "text/plain": [
       "[10, 8, 6, 4, 2]"
      ]
     },
     "execution_count": 19,
     "metadata": {},
     "output_type": "execute_result"
    }
   ],
   "source": [
    "lst3"
   ]
  },
  {
   "cell_type": "code",
   "execution_count": 20,
   "id": "colonial-showcase",
   "metadata": {},
   "outputs": [
    {
     "data": {
      "text/plain": [
       "[10, 8, 6, 4, 2]"
      ]
     },
     "execution_count": 20,
     "metadata": {},
     "output_type": "execute_result"
    }
   ],
   "source": [
    "lst2"
   ]
  },
  {
   "cell_type": "code",
   "execution_count": 72,
   "id": "south-airplane",
   "metadata": {},
   "outputs": [],
   "source": [
    "lst4=list(range(1, 20, 3))"
   ]
  },
  {
   "cell_type": "code",
   "execution_count": 73,
   "id": "portuguese-radar",
   "metadata": {},
   "outputs": [
    {
     "data": {
      "text/plain": [
       "[1, 4, 7, 10, 13, 16, 19]"
      ]
     },
     "execution_count": 73,
     "metadata": {},
     "output_type": "execute_result"
    }
   ],
   "source": [
    "lst4"
   ]
  },
  {
   "cell_type": "code",
   "execution_count": 52,
   "id": "roman-absolute",
   "metadata": {},
   "outputs": [
    {
     "ename": "IndexError",
     "evalue": "list index out of range",
     "output_type": "error",
     "traceback": [
      "\u001b[1;31m---------------------------------------------------------------------------\u001b[0m",
      "\u001b[1;31mIndexError\u001b[0m                                Traceback (most recent call last)",
      "\u001b[1;32m<ipython-input-52-94e724db187a>\u001b[0m in \u001b[0;36m<module>\u001b[1;34m\u001b[0m\n\u001b[1;32m----> 1\u001b[1;33m \u001b[0mlst4\u001b[0m\u001b[1;33m[\u001b[0m\u001b[1;36m12\u001b[0m\u001b[1;33m]\u001b[0m\u001b[1;33m\u001b[0m\u001b[1;33m\u001b[0m\u001b[0m\n\u001b[0m",
      "\u001b[1;31mIndexError\u001b[0m: list index out of range"
     ]
    }
   ],
   "source": [
    "lst4[12]"
   ]
  },
  {
   "cell_type": "code",
   "execution_count": 51,
   "id": "miniature-ability",
   "metadata": {},
   "outputs": [
    {
     "data": {
      "text/plain": [
       "[]"
      ]
     },
     "execution_count": 51,
     "metadata": {},
     "output_type": "execute_result"
    }
   ],
   "source": [
    "lst4[99:104]         #슬라이싱: [:] 콜론을 사용하여 영역을 지정할 수 있다"
   ]
  },
  {
   "cell_type": "markdown",
   "id": "adult-mediterranean",
   "metadata": {},
   "source": [
    "#슬라이싱 [::] 맨뒤는 증감을 표현"
   ]
  },
  {
   "cell_type": "markdown",
   "id": "innocent-texture",
   "metadata": {},
   "source": [
    "len()       #리스트의 크기, 요소의 개수를 확인하는 메서드, len(리스트이름)"
   ]
  },
  {
   "cell_type": "code",
   "execution_count": 41,
   "id": "abstract-brief",
   "metadata": {},
   "outputs": [
    {
     "data": {
      "text/plain": [
       "1429"
      ]
     },
     "execution_count": 41,
     "metadata": {},
     "output_type": "execute_result"
    }
   ],
   "source": [
    "len(lst4)"
   ]
  },
  {
   "cell_type": "markdown",
   "id": "contrary-patrick",
   "metadata": {},
   "source": [
    "슬라이싱의 맨 처음과 맨끝은 생략할 수 있다"
   ]
  },
  {
   "cell_type": "code",
   "execution_count": 46,
   "id": "premium-moral",
   "metadata": {},
   "outputs": [
    {
     "data": {
      "text/plain": [
       "[9934, 9941, 9948, 9955, 9962, 9969, 9976, 9983, 9990, 9997]"
      ]
     },
     "execution_count": 46,
     "metadata": {},
     "output_type": "execute_result"
    }
   ],
   "source": [
    "lst4[1419:]"
   ]
  },
  {
   "cell_type": "code",
   "execution_count": 48,
   "id": "manual-mystery",
   "metadata": {},
   "outputs": [
    {
     "data": {
      "text/plain": [
       "[1, 8, 15, 22]"
      ]
     },
     "execution_count": 48,
     "metadata": {},
     "output_type": "execute_result"
    }
   ],
   "source": [
    "lst4[:4]            "
   ]
  },
  {
   "cell_type": "code",
   "execution_count": 54,
   "id": "roman-arbor",
   "metadata": {},
   "outputs": [
    {
     "data": {
      "text/plain": [
       "[10, 16]"
      ]
     },
     "execution_count": 54,
     "metadata": {},
     "output_type": "execute_result"
    }
   ],
   "source": [
    "lst4[3::2]"
   ]
  },
  {
   "cell_type": "code",
   "execution_count": 56,
   "id": "former-cinema",
   "metadata": {},
   "outputs": [],
   "source": [
    "tpl = tuple(range(1,11,2))"
   ]
  },
  {
   "cell_type": "code",
   "execution_count": 57,
   "id": "allied-exposure",
   "metadata": {},
   "outputs": [
    {
     "data": {
      "text/plain": [
       "(1, 3, 5, 7, 9)"
      ]
     },
     "execution_count": 57,
     "metadata": {},
     "output_type": "execute_result"
    }
   ],
   "source": [
    "tpl"
   ]
  },
  {
   "cell_type": "code",
   "execution_count": 59,
   "id": "genuine-madness",
   "metadata": {},
   "outputs": [
    {
     "ename": "TypeError",
     "evalue": "'tuple' object does not support item assignment",
     "output_type": "error",
     "traceback": [
      "\u001b[1;31m---------------------------------------------------------------------------\u001b[0m",
      "\u001b[1;31mTypeError\u001b[0m                                 Traceback (most recent call last)",
      "\u001b[1;32m<ipython-input-59-e01017b3e04e>\u001b[0m in \u001b[0;36m<module>\u001b[1;34m\u001b[0m\n\u001b[1;32m----> 1\u001b[1;33m \u001b[0mtpl\u001b[0m\u001b[1;33m[\u001b[0m\u001b[1;36m0\u001b[0m\u001b[1;33m]\u001b[0m \u001b[1;33m=\u001b[0m \u001b[1;36m2\u001b[0m\u001b[1;33m\u001b[0m\u001b[1;33m\u001b[0m\u001b[0m\n\u001b[0m",
      "\u001b[1;31mTypeError\u001b[0m: 'tuple' object does not support item assignment"
     ]
    }
   ],
   "source": [
    "tpl[0] = 2"
   ]
  },
  {
   "cell_type": "markdown",
   "id": "copyrighted-sphere",
   "metadata": {},
   "source": [
    "연속도니 데이터를 취급하는 2가지 방법: [리스트], (튜플)\n",
    "[리스트]-요소의 수정, 삭제가 가능\n",
    "(튜플- 요소의 수정, 삭제가 불가능\n",
    "리스트에서 나온 인덱싱과 슬라이싱은 튜플에도 적용이 가능 길이구하기도"
   ]
  },
  {
   "cell_type": "code",
   "execution_count": 62,
   "id": "economic-register",
   "metadata": {},
   "outputs": [],
   "source": [
    "# 리스트의 더하기(not add but concertnate, 산술적 덧셈의 의미가 아니라 리스트의 결함)(리스트끼리 합하기)\n",
    "OddLst= [1,3,5,7,8]\n",
    "EvenLst= [2,4,6,8,10]\n",
    "AllLst= OddLst+EvenLst"
   ]
  },
  {
   "cell_type": "code",
   "execution_count": 64,
   "id": "loaded-background",
   "metadata": {},
   "outputs": [
    {
     "data": {
      "text/plain": [
       "[1, 3, 5, 7, 8, 2, 4, 6, 8, 10]"
      ]
     },
     "execution_count": 64,
     "metadata": {},
     "output_type": "execute_result"
    }
   ],
   "source": [
    "AllLst"
   ]
  },
  {
   "cell_type": "code",
   "execution_count": 66,
   "id": "traditional-airport",
   "metadata": {},
   "outputs": [
    {
     "data": {
      "text/plain": [
       "[1, 3, 5, 7, 8, 1, 3, 5, 7, 8, 1, 3, 5, 7, 8]"
      ]
     },
     "execution_count": 66,
     "metadata": {},
     "output_type": "execute_result"
    }
   ],
   "source": [
    "#리스트의 반복 *\n",
    "MulLst = OddLst*3\n",
    "MulLst"
   ]
  },
  {
   "cell_type": "code",
   "execution_count": 71,
   "id": "elementary-dayton",
   "metadata": {},
   "outputs": [
    {
     "name": "stdout",
     "output_type": "stream",
     "text": [
      "['trek', 'cannondale', 'redline', 'specialized']\n"
     ]
    }
   ],
   "source": [
    "bicycles = ['trek', 'cannondale', 'redline', 'specialized']\n",
    "print(bicycles)"
   ]
  },
  {
   "cell_type": "code",
   "execution_count": 76,
   "id": "theoretical-annotation",
   "metadata": {},
   "outputs": [
    {
     "data": {
      "text/plain": [
       "['홍길동', '춘향이', '박문수']"
      ]
     },
     "execution_count": 76,
     "metadata": {},
     "output_type": "execute_result"
    }
   ],
   "source": [
    "#리스트의 새로운 항목 추가하기\n",
    "stName = [\"홍길동\", \"춘향이\", \"박문수\"]\n",
    "stName"
   ]
  },
  {
   "cell_type": "code",
   "execution_count": 80,
   "id": "stunning-short",
   "metadata": {},
   "outputs": [
    {
     "data": {
      "text/plain": [
       "['홍길동', '춘향이', '박문수', '이지은', '이지은', '이지은', '이지은']"
      ]
     },
     "execution_count": 80,
     "metadata": {},
     "output_type": "execute_result"
    }
   ],
   "source": [
    "# 지은이가 전학을 왔어요. 학생 명단에 지으을 추가\n",
    "# stName[3] =\"이지은\"\n",
    "#인덱스를 추가하는 방법 대신...\n",
    "# appemd()함수를 사용하세요. \n",
    "# 리스트이름.append()\n",
    "stName.append(\"이지은\")\n",
    "stName"
   ]
  },
  {
   "cell_type": "code",
   "execution_count": 118,
   "id": "juvenile-answer",
   "metadata": {},
   "outputs": [
    {
     "ename": "IndexError",
     "evalue": "pop from empty list",
     "output_type": "error",
     "traceback": [
      "\u001b[1;31m---------------------------------------------------------------------------\u001b[0m",
      "\u001b[1;31mIndexError\u001b[0m                                Traceback (most recent call last)",
      "\u001b[1;32m<ipython-input-118-76ed7ce28e02>\u001b[0m in \u001b[0;36m<module>\u001b[1;34m\u001b[0m\n\u001b[0;32m      1\u001b[0m \u001b[1;31m#리스트 항목 제거\u001b[0m\u001b[1;33m\u001b[0m\u001b[1;33m\u001b[0m\u001b[1;33m\u001b[0m\u001b[0m\n\u001b[0;32m      2\u001b[0m \u001b[1;31m# del, pop  del은 함수가 아니라 명령어\u001b[0m\u001b[1;33m\u001b[0m\u001b[1;33m\u001b[0m\u001b[1;33m\u001b[0m\u001b[0m\n\u001b[1;32m----> 3\u001b[1;33m \u001b[0mstName\u001b[0m\u001b[1;33m.\u001b[0m\u001b[0mpop\u001b[0m\u001b[1;33m(\u001b[0m\u001b[1;33m)\u001b[0m\u001b[1;33m\u001b[0m\u001b[1;33m\u001b[0m\u001b[0m\n\u001b[0m\u001b[0;32m      4\u001b[0m \u001b[0mstName\u001b[0m\u001b[1;33m\u001b[0m\u001b[1;33m\u001b[0m\u001b[0m\n",
      "\u001b[1;31mIndexError\u001b[0m: pop from empty list"
     ]
    }
   ],
   "source": [
    "#리스트 항목 제거 \n",
    "# del, pop  del은 함수가 아니라 명령어 \n",
    "stName.pop()\n",
    "stName"
   ]
  },
  {
   "cell_type": "code",
   "execution_count": 120,
   "id": "failing-cliff",
   "metadata": {},
   "outputs": [
    {
     "data": {
      "text/plain": [
       "['김경섭', '엄준식', '엄기룡', '이재석']"
      ]
     },
     "execution_count": 120,
     "metadata": {},
     "output_type": "execute_result"
    }
   ],
   "source": [
    "Stname=[\"김경섭\", \"엄준식\", \"엄기룡\", \"이재석\"]\n",
    "Stname"
   ]
  },
  {
   "cell_type": "code",
   "execution_count": 125,
   "id": "incident-playback",
   "metadata": {
    "scrolled": true
   },
   "outputs": [
    {
     "data": {
      "text/plain": [
       "['이재석', '엄준식', '엄기룡', '김경섭']"
      ]
     },
     "execution_count": 125,
     "metadata": {},
     "output_type": "execute_result"
    }
   ],
   "source": [
    "#리스트의 정렬 sort()\n",
    "Stname.sort(reverse=True)\n",
    "Stname"
   ]
  },
  {
   "cell_type": "markdown",
   "id": "whole-elder",
   "metadata": {},
   "source": [
    "## 리스트에 대해 루프 실행하기 \n",
    "    파이썬 언어\n",
    "print(Stname[0])\n",
    "print(Stname[1])\n",
    "print(Stname[2])\n",
    "print(Stname[3])\n",
    "\n",
    "위 방법은 출력해야 할 요소가 아주 많을 때는 불편"
   ]
  },
  {
   "cell_type": "code",
   "execution_count": 131,
   "id": "improved-january",
   "metadata": {},
   "outputs": [
    {
     "name": "stdout",
     "output_type": "stream",
     "text": [
      "이재석\n",
      "엄준식\n",
      "엄기룡\n",
      "김경섭\n"
     ]
    }
   ],
   "source": [
    "for name in Stname:              \n",
    "    print(name)   "
   ]
  },
  {
   "cell_type": "markdown",
   "id": "postal-tourism",
   "metadata": {},
   "source": [
    "위 방법은 투플도 사용가능\n",
    "\n",
    "## 파이썬에서는 들여쓰기와 띄어쓰기가 문법적 요소로 작용을 함. \n",
    ": 은 생략 하면 안됨"
   ]
  },
  {
   "cell_type": "code",
   "execution_count": 141,
   "id": "tough-investor",
   "metadata": {},
   "outputs": [
    {
     "ename": "SyntaxError",
     "evalue": "invalid syntax (<ipython-input-141-33fc1300fafe>, line 2)",
     "output_type": "error",
     "traceback": [
      "\u001b[1;36m  File \u001b[1;32m\"<ipython-input-141-33fc1300fafe>\"\u001b[1;36m, line \u001b[1;32m2\u001b[0m\n\u001b[1;33m    for magician in magicians\u001b[0m\n\u001b[1;37m                             ^\u001b[0m\n\u001b[1;31mSyntaxError\u001b[0m\u001b[1;31m:\u001b[0m invalid syntax\n"
     ]
    }
   ],
   "source": [
    "magicians = ['alice', 'david', 'carolina']\n",
    "for magician in magicians\n",
    "   print(f\"{magician.title()}, that was a great trick!\")\n",
    "   print(f\"I can't wait to see your next trick, {magician.title()}.n\")\n",
    "\n",
    "print(\"Thank you, everyone. That was agreat magic show!\")"
   ]
  },
  {
   "cell_type": "markdown",
   "id": "lesser-kingston",
   "metadata": {},
   "source": [
    "리스트와 튜플른 인덱스 번호를 가지고 접근"
   ]
  },
  {
   "cell_type": "code",
   "execution_count": 144,
   "id": "studied-nightlife",
   "metadata": {},
   "outputs": [
    {
     "name": "stdout",
     "output_type": "stream",
     "text": [
      "Audi\n",
      "BMW\n",
      "***\n",
      "###\n",
      "Subaru\n",
      "Toyota\n"
     ]
    }
   ],
   "source": [
    "cars = ['audi', 'bmw', 'subaru', 'toyota']\n",
    "\n",
    "for car in cars:\n",
    "    if car == 'bmw':\n",
    "        print(car.upper())\n",
    "        print('***')\n",
    "        print('###')\n",
    "    else:\n",
    "        print(car.title())"
   ]
  },
  {
   "cell_type": "markdown",
   "id": "retained-match",
   "metadata": {},
   "source": [
    "**<연습문제>** 5과목의 점수가 score 리스트에 저정되어 있다. 총점을 구하고. 평균이 90이상이면 A등급을, 80이상이면 B등급을, 70이상이면 C등급을 부여하고 그렇지 않으면 F등급을 부여하는 프로그램\n"
   ]
  },
  {
   "cell_type": "code",
   "execution_count": 110,
   "id": "prompt-darkness",
   "metadata": {},
   "outputs": [
    {
     "ename": "TypeError",
     "evalue": "list.append() takes exactly one argument (3 given)",
     "output_type": "error",
     "traceback": [
      "\u001b[1;31m---------------------------------------------------------------------------\u001b[0m",
      "\u001b[1;31mTypeError\u001b[0m                                 Traceback (most recent call last)",
      "\u001b[1;32m<ipython-input-110-2905006e6fe5>\u001b[0m in \u001b[0;36m<module>\u001b[1;34m\u001b[0m\n\u001b[1;32m----> 1\u001b[1;33m \u001b[0mstName\u001b[0m\u001b[1;33m.\u001b[0m\u001b[0mappend\u001b[0m\u001b[1;33m(\u001b[0m\u001b[1;34m\"김경섭\"\u001b[0m\u001b[1;33m,\u001b[0m \u001b[1;34m\"춘향이\"\u001b[0m\u001b[1;33m,\u001b[0m\u001b[1;34m\"을지문덕\"\u001b[0m\u001b[1;33m)\u001b[0m\u001b[1;33m\u001b[0m\u001b[1;33m\u001b[0m\u001b[0m\n\u001b[0m\u001b[0;32m      2\u001b[0m \u001b[0mstName\u001b[0m\u001b[1;33m\u001b[0m\u001b[1;33m\u001b[0m\u001b[0m\n",
      "\u001b[1;31mTypeError\u001b[0m: list.append() takes exactly one argument (3 given)"
     ]
    }
   ],
   "source": [
    "stName.append(\"김경섭\", \"춘향이\",\"을지문덕\")\n",
    "stName"
   ]
  },
  {
   "cell_type": "code",
   "execution_count": 174,
   "id": "subject-shadow",
   "metadata": {},
   "outputs": [
    {
     "ename": "SyntaxError",
     "evalue": "invalid syntax (<ipython-input-174-61f1b61d7218>, line 15)",
     "output_type": "error",
     "traceback": [
      "\u001b[1;36m  File \u001b[1;32m\"<ipython-input-174-61f1b61d7218>\"\u001b[1;36m, line \u001b[1;32m15\u001b[0m\n\u001b[1;33m    elif avg => 70:\u001b[0m\n\u001b[1;37m             ^\u001b[0m\n\u001b[1;31mSyntaxError\u001b[0m\u001b[1;31m:\u001b[0m invalid syntax\n"
     ]
    }
   ],
   "source": [
    "scores = int([100, 88, 76, 67 ,50])\n",
    "tital = 0\n",
    "for score in scores:\n",
    "    Total += score\n",
    "    \n",
    "avg = total / 5\n",
    "    \n",
    "if avg >= 90: \n",
    "    grade = \"A\"\n",
    "\n",
    "elif avg >= 80: \n",
    "    grade = \"B\"\n",
    "\n",
    "    \n",
    "elif avg => 70:\n",
    "    grade = \"C\"\n",
    "\n",
    "    \n",
    "else:\n",
    "    grade = \"F\"\n",
    "\n",
    "print(grade)\n"
   ]
  }
 ],
 "metadata": {
  "kernelspec": {
   "display_name": "Python 3",
   "language": "python",
   "name": "python3"
  },
  "language_info": {
   "codemirror_mode": {
    "name": "ipython",
    "version": 3
   },
   "file_extension": ".py",
   "mimetype": "text/x-python",
   "name": "python",
   "nbconvert_exporter": "python",
   "pygments_lexer": "ipython3",
   "version": "3.9.1"
  }
 },
 "nbformat": 4,
 "nbformat_minor": 5
}
